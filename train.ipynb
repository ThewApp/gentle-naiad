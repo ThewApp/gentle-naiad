{
 "cells": [
  {
   "cell_type": "markdown",
   "metadata": {},
   "source": [
    "## Train Core\n",
    "\n",
    "ด้านล่างนี้ เป็นส่วนของการ Train Core ซึ่งจะทำให้ Bot สามารถเข้าใจ Story การโต้ตอบได้"
   ]
  },
  {
   "cell_type": "code",
   "execution_count": null,
   "metadata": {},
   "outputs": [],
   "source": [
    "!python -m rasa_core.train -d domain.yml -s stories.md -o models/dialogue"
   ]
  },
  {
   "cell_type": "markdown",
   "metadata": {},
   "source": [
    "### วิธีส่งไฟล์\n",
    "\n",
    "ให้ Run cell ข้างล่างนี้ แล้วจะมีไฟล์ `data.tar.gz` เพิ่มขึ้นมา  \n",
    "(ถ้าไม่มี ให้กด Refresh File List ใต้คำว่า Tabs กับ Settings)  \n",
    "\n",
    "จากนั้นให้คลิกขวาที่ไฟล์ `data.tar.gz` แล้วกด Download"
   ]
  },
  {
   "cell_type": "code",
   "execution_count": null,
   "metadata": {},
   "outputs": [],
   "source": [
    "!tar czf data.tar.gz domain.yml stories.md"
   ]
  },
  {
   "cell_type": "markdown",
   "metadata": {},
   "source": [
    "## Train NLU\n",
    "\n",
    "ด้านล่างนี้ เป็นส่วนของการ Train NLU (Natural Language Understanding) ซึ่งจะทำให้ Bot สามารถเข้าใจภาษามนุษย์ได้"
   ]
  },
  {
   "cell_type": "code",
   "execution_count": null,
   "metadata": {},
   "outputs": [],
   "source": [
    "!python -m rasa_nlu.train -c nlu_config.yml --data nlu.md -o models --fixed_model_name nlu --project current"
   ]
  },
  {
   "cell_type": "markdown",
   "metadata": {},
   "source": [
    "### วิธีส่งไฟล์\n",
    "\n",
    "ให้ Run cell ข้างล่างนี้ แล้วจะมีไฟล์ `nlu.tar.gz` เพิ่มขึ้นมา  \n",
    "(ถ้าไม่มี ให้กด Refresh File List ใต้คำว่า Tabs กับ Settings)  \n",
    "\n",
    "จากนั้นให้คลิกขวาที่ไฟล์ `nlu.tar.gz` แล้วกด Download"
   ]
  },
  {
   "cell_type": "code",
   "execution_count": null,
   "metadata": {},
   "outputs": [],
   "source": [
    "!tar czf nlu.tar.gz nlu.md"
   ]
  },
  {
   "cell_type": "markdown",
   "metadata": {},
   "source": [
    "## ทดสอบ NLU และ Core\n",
    "\n",
    "ให้กด Run cell ข้างล่างเพื่อ ทดสอบ Core และ NLU ที่ Train มาข้างบน"
   ]
  },
  {
   "cell_type": "code",
   "execution_count": null,
   "metadata": {},
   "outputs": [],
   "source": [
    "import IPython\n",
    "from IPython.display import clear_output, HTML, display\n",
    "from rasa_core.agent import Agent\n",
    "from rasa_core.interpreter import RasaNLUInterpreter\n",
    "import time\n",
    "\n",
    "interpreter = RasaNLUInterpreter('../models/current/nlu')\n",
    "messages = [\"Hi! you can chat in this window. Type 'stop' to end the conversation.\"]\n",
    "agent = Agent.load('../models/dialogue', interpreter=interpreter)\n",
    "\n",
    "def chatlogs_html(messages):\n",
    "    messages_html = \"\".join([\"<p>{}</p>\".format(m) for m in messages])\n",
    "    chatbot_html = \"\"\"<div class=\"chat-window\" {}</div>\"\"\".format(messages_html)\n",
    "    return chatbot_html\n",
    "\n",
    "\n",
    "while True:\n",
    "    clear_output()\n",
    "    display(HTML(chatlogs_html(messages)))\n",
    "    time.sleep(0.3)\n",
    "    a = input()\n",
    "    messages.append(a)\n",
    "    if a == 'stop':\n",
    "        break\n",
    "    responses = agent.handle_message(a)\n",
    "    for r in responses:\n",
    "        messages.append(r.get(\"text\"))"
   ]
  },
  {
   "cell_type": "markdown",
   "metadata": {},
   "source": [
    "## Export Model"
   ]
  },
  {
   "cell_type": "code",
   "execution_count": null,
   "metadata": {},
   "outputs": [],
   "source": [
    "!tar czf models.tar.gz models"
   ]
  }
 ],
 "metadata": {
  "kernelspec": {
   "display_name": "Python 3",
   "language": "python",
   "name": "python3"
  },
  "language_info": {
   "codemirror_mode": {
    "name": "ipython",
    "version": 3
   },
   "file_extension": ".py",
   "mimetype": "text/x-python",
   "name": "python",
   "nbconvert_exporter": "python",
   "pygments_lexer": "ipython3",
   "version": "3.6.7"
  }
 },
 "nbformat": 4,
 "nbformat_minor": 2
}
